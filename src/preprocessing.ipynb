{
 "cells": [
  {
   "attachments": {},
   "cell_type": "markdown",
   "metadata": {},
   "source": [
    "#### Overview\n",
    "- Reproducing https://medium.com/@dave.cote.msc/hybrid-multimodal-neural-network-architecture-combination-of-tabular-textual-and-image-inputs-7460a4f82a2e\n",
    "- This script inspects the datasets (tabular and images)"
   ]
  },
  {
   "cell_type": "code",
   "execution_count": 5,
   "metadata": {},
   "outputs": [],
   "source": [
    "#Libraries\n",
    "import numpy as np\n",
    "import pandas as pd\n",
    "import os \n",
    "\n",
    "#Change working directory\n",
    "os.chdir(\"/workspaces/deeplearning-multimodal-neural-network\")"
   ]
  },
  {
   "cell_type": "code",
   "execution_count": 9,
   "metadata": {},
   "outputs": [
    {
     "name": "stdout",
     "output_type": "stream",
     "text": [
      "         zpid          city         streetAddress  zipcode  \\\n",
      "0   111373431  pflugerville  14424 Lake Victor Dr    78660   \n",
      "1   120900430  pflugerville    1104 Strickling Dr    78660   \n",
      "2  2084491383  pflugerville   1408 Fort Dessau Rd    78660   \n",
      "\n",
      "                                         description   latitude  longitude  \\\n",
      "0  14424 Lake Victor Dr, Pflugerville, TX 78660 i...  30.430632 -97.663078   \n",
      "1  Absolutely GORGEOUS 4 Bedroom home with 2 full...  30.432673 -97.661697   \n",
      "2  Under construction - estimated completion in A...  30.409748 -97.639771   \n",
      "\n",
      "   propertyTaxRate  garageSpaces  hasAssociation  ...  numOfMiddleSchools  \\\n",
      "0             1.98             2            True  ...                   1   \n",
      "1             1.98             2            True  ...                   1   \n",
      "2             1.98             0            True  ...                   1   \n",
      "\n",
      "   numOfHighSchools  avgSchoolDistance  avgSchoolRating  avgSchoolSize  \\\n",
      "0                 1           1.266667         2.666667           1063   \n",
      "1                 1           1.400000         2.666667           1063   \n",
      "2                 1           1.200000         3.000000           1108   \n",
      "\n",
      "  MedianStudentsPerTeacher  numOfBathrooms  numOfBedrooms  numOfStories  \\\n",
      "0                       14             3.0              4             2   \n",
      "1                       14             2.0              4             1   \n",
      "2                       14             2.0              3             1   \n",
      "\n",
      "                                           homeImage  \n",
      "0  111373431_ffce26843283d3365c11d81b8e6bdc6f-p_f...  \n",
      "1  120900430_8255c127be8dcf0a1a18b7563d987088-p_f...  \n",
      "2  2084491383_a2ad649e1a7a098111dcea084a11c855-p_...  \n",
      "\n",
      "[3 rows x 47 columns]\n",
      "['zpid', 'city', 'streetAddress', 'zipcode', 'description', 'latitude', 'longitude', 'propertyTaxRate', 'garageSpaces', 'hasAssociation', 'hasCooling', 'hasGarage', 'hasHeating', 'hasSpa', 'hasView', 'homeType', 'parkingSpaces', 'yearBuilt', 'latestPrice', 'numPriceChanges', 'latest_saledate', 'latest_salemonth', 'latest_saleyear', 'latestPriceSource', 'numOfPhotos', 'numOfAccessibilityFeatures', 'numOfAppliances', 'numOfParkingFeatures', 'numOfPatioAndPorchFeatures', 'numOfSecurityFeatures', 'numOfWaterfrontFeatures', 'numOfWindowFeatures', 'numOfCommunityFeatures', 'lotSizeSqFt', 'livingAreaSqFt', 'numOfPrimarySchools', 'numOfElementarySchools', 'numOfMiddleSchools', 'numOfHighSchools', 'avgSchoolDistance', 'avgSchoolRating', 'avgSchoolSize', 'MedianStudentsPerTeacher', 'numOfBathrooms', 'numOfBedrooms', 'numOfStories', 'homeImage']\n"
     ]
    }
   ],
   "source": [
    "#Import tabular dataset and a brief inspection\n",
    "df_dataset = pd.read_csv('data/austinHousingData.csv')\n",
    "print(df_dataset.head(3))\n",
    "print(list(df_dataset.columns), )"
   ]
  }
 ],
 "metadata": {
  "kernelspec": {
   "display_name": "Python 3 (ipykernel)",
   "language": "python",
   "name": "python3"
  },
  "language_info": {
   "codemirror_mode": {
    "name": "ipython",
    "version": 3
   },
   "file_extension": ".py",
   "mimetype": "text/x-python",
   "name": "python",
   "nbconvert_exporter": "python",
   "pygments_lexer": "ipython3",
   "version": "3.10.8"
  },
  "orig_nbformat": 4
 },
 "nbformat": 4,
 "nbformat_minor": 2
}
